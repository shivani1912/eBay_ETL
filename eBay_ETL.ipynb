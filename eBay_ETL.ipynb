{
  "nbformat": 4,
  "nbformat_minor": 0,
  "metadata": {
    "kernelspec": {
      "display_name": "Python 3",
      "language": "python",
      "name": "python3"
    },
    "language_info": {
      "codemirror_mode": {
        "name": "ipython",
        "version": 3
      },
      "file_extension": ".py",
      "mimetype": "text/x-python",
      "name": "python",
      "nbconvert_exporter": "python",
      "pygments_lexer": "ipython3",
      "version": "3.7.4"
    },
    "colab": {
      "name": "eBay_ETL.ipynb",
      "provenance": [],
      "include_colab_link": true
    }
  },
  "cells": [
    {
      "cell_type": "markdown",
      "metadata": {
        "id": "view-in-github",
        "colab_type": "text"
      },
      "source": [
        "<a href=\"https://colab.research.google.com/github/shivani1912/eBay_ETL/blob/master/eBay_ETL.ipynb\" target=\"_parent\"><img src=\"https://colab.research.google.com/assets/colab-badge.svg\" alt=\"Open In Colab\"/></a>"
      ]
    },
    {
      "cell_type": "markdown",
      "metadata": {
        "id": "MkYlSEzx6-bh",
        "colab_type": "text"
      },
      "source": [
        "## Objective\n",
        "Build an ETL pipeline to extract, transform and load eBay iPad 4 product listing into SQL database.\n",
        "Analysis the difference between sponsored and non-sponsored product listings"
      ]
    },
    {
      "cell_type": "code",
      "metadata": {
        "id": "QEBjgCtm6-bj",
        "colab_type": "code",
        "colab": {}
      },
      "source": [
        "import string\n",
        "import os\n",
        "import pandas as pd\n",
        "import requests\n",
        "import time\n",
        "import re\n",
        "from bs4 import BeautifulSoup\n"
      ],
      "execution_count": null,
      "outputs": []
    },
    {
      "cell_type": "markdown",
      "metadata": {
        "id": "oXe3Fpcy6-bq",
        "colab_type": "text"
      },
      "source": [
        "<h6> Search for buy-it-now listings of ipad4 and limit the number of items to 100 per page. \n",
        "\n",
        "For the first 10 pages of 100 items/page, we save all the URLs of sponsored items' pages to the file \"sponsored.txt\"  and all the URLs of non-sponsored items' pages to the file \"non-sponsored.txt\" in the same directory as the code code. (One URL per line in each file)"
      ]
    },
    {
      "cell_type": "code",
      "metadata": {
        "id": "d94sYClB6-br",
        "colab_type": "code",
        "colab": {},
        "outputId": "9ff30895-65d6-4f8f-e39d-8b961c75a825"
      },
      "source": [
        "#querying for ipad4 and saving the search pages to file (Professor recommended always saving html pages to file before processing them)\n",
        "base_url = \"https://www.ebay.com/sch/i.html?_nkw=ipad4&LH_BIN=1&_ipg=100&_pgn=\"\n",
        "headers = {'User-Agent': 'Mozilla/5.0'}\n",
        "#Request to the server\n",
        "a=list(range(1,11))\n",
        "for number in a:\n",
        "        user_agent='Mozilla/5.0'\n",
        "        url=base_url+str(number)\n",
        "        response= requests.get(url , headers={'User-Agent': user_agent})\n",
        "        pg_text=response.text\n",
        "        filename = 'ebay_ipad4_pg'+str(number)+'.htm'\n",
        "        print(filename)\n",
        "        with open(filename,'w') as file:\n",
        "            file.write(str(response.content))\n",
        " "
      ],
      "execution_count": null,
      "outputs": [
        {
          "output_type": "stream",
          "text": [
            "ebay_ipad4_pg1.htm\n",
            "ebay_ipad4_pg2.htm\n",
            "ebay_ipad4_pg3.htm\n",
            "ebay_ipad4_pg4.htm\n",
            "ebay_ipad4_pg5.htm\n",
            "ebay_ipad4_pg6.htm\n",
            "ebay_ipad4_pg7.htm\n",
            "ebay_ipad4_pg8.htm\n",
            "ebay_ipad4_pg9.htm\n",
            "ebay_ipad4_pg10.htm\n"
          ],
          "name": "stdout"
        }
      ]
    },
    {
      "cell_type": "code",
      "metadata": {
        "id": "dm1b0mUH6-bw",
        "colab_type": "code",
        "colab": {}
      },
      "source": [
        "\n",
        "#Copying all sponsored links to sponosred.txt file\n",
        "a=list(range(1,11))\n",
        "with open('sponsored.txt','w') as file:\n",
        "    for number in a:\n",
        "        filename = 'ebay_ipad4_pg'+str(number)+'.htm'\n",
        "        with open(filename, 'r') as f:\n",
        "            text = f.read()\n",
        "            soup = BeautifulSoup(text, 'html.parser') \n",
        "            items = soup.find_all('div', attrs={'class':'s-item__info clearfix'})\n",
        "            for item in items:\n",
        "                a = item.find(\"a\")\n",
        "                if not a:\n",
        "                    continue \n",
        "                text = item.find(\"span\").get_text()\n",
        "                if re.search('.*S.*P.*O.*N.*S.*O.*R.*E.*D.*',text):\n",
        "                        file.write(a['href']+\"\\n\")"
      ],
      "execution_count": null,
      "outputs": []
    },
    {
      "cell_type": "code",
      "metadata": {
        "id": "2DA-RGMn6-b0",
        "colab_type": "code",
        "colab": {}
      },
      "source": [
        "file.close()"
      ],
      "execution_count": null,
      "outputs": []
    },
    {
      "cell_type": "code",
      "metadata": {
        "id": "PaPX9ed86-b6",
        "colab_type": "code",
        "colab": {}
      },
      "source": [
        "\n",
        "#Copying all non-sponsored links to non-sponosred.txt file\n",
        "a=list(range(1,11))\n",
        "with open('non-sponsored.txt','w') as file:\n",
        "    for number in a:\n",
        "        filename = 'ebay_ipad4_pg'+str(number)+'.htm'\n",
        "        with open(filename, 'r') as f:\n",
        "            text = f.read()\n",
        "            soup = BeautifulSoup(text, 'html.parser') \n",
        "            items = soup.find_all('div', attrs={'class':'s-item__info clearfix'})\n",
        "            for item in items:\n",
        "                a = item.find(\"a\")\n",
        "                if not a:\n",
        "                    continue \n",
        "                text = item.find(\"span\").get_text()\n",
        "                if re.search('.*S.*P.*O.*N.*S.*O.*R.*E.*D.*',text):\n",
        "                        continue\n",
        "                else:\n",
        "                        file.write(a['href']+\"\\n\")\n",
        "  "
      ],
      "execution_count": null,
      "outputs": []
    },
    {
      "cell_type": "code",
      "metadata": {
        "id": "-ICj7JCX6-b_",
        "colab_type": "code",
        "colab": {}
      },
      "source": [
        "file.close()"
      ],
      "execution_count": null,
      "outputs": []
    },
    {
      "cell_type": "markdown",
      "metadata": {
        "id": "8hbxkfRb6-cD",
        "colab_type": "text"
      },
      "source": [
        "<h6>  We create two folders in the same directory as the code and name them \"sponsored\" and \"non-sponsored\". We then write a program that opens the two files (sponsored.txt, non-sponsored.txt) and downloads each of the pages (URLs) into the folders \"sponsored\" and \"non-sponsored\". Note it is always good to put a 2-second pause between queries. Make sure to catch an error and continue if your query runs into problems connecting to eBay (e.g., if your internet is down for 5 seconds, you don't want your entire code to crash)."
      ]
    },
    {
      "cell_type": "code",
      "metadata": {
        "id": "oaDt2dVa6-cF",
        "colab_type": "code",
        "colab": {},
        "outputId": "db42dcd5-d3a3-413b-a160-d8316bfcbe11"
      },
      "source": [
        "import os\n",
        "\n",
        "# creating sponsored folder\n",
        "try:\n",
        "    os.mkdir('sponsored')\n",
        "except OSError:\n",
        "    print (\"Creation of the directory failed\")\n",
        "else:\n",
        "    print (\"Successfully created the directory\")"
      ],
      "execution_count": null,
      "outputs": [
        {
          "output_type": "stream",
          "text": [
            "Successfully created the directory\n"
          ],
          "name": "stdout"
        }
      ]
    },
    {
      "cell_type": "code",
      "metadata": {
        "id": "SSjfBbgK6-cL",
        "colab_type": "code",
        "colab": {}
      },
      "source": [
        "mypath=os.getcwd() "
      ],
      "execution_count": null,
      "outputs": []
    },
    {
      "cell_type": "code",
      "metadata": {
        "id": "AVqybhTr6-cQ",
        "colab_type": "code",
        "colab": {}
      },
      "source": [
        "\n",
        "#Downloading all sponsored links to sponosred folder\n",
        "a=list(range(1,11))\n",
        "file=open('sponsored.txt','r')\n",
        "lines = file.readlines()\n",
        "os.chdir(\"sponsored\")\n",
        "for line in lines:\n",
        "    url = line\n",
        "    headers = {'User-Agent': 'Mozilla/5.0'}\n",
        "    user_agent='Mozilla/5.0'\n",
        "    time.sleep(2)\n",
        "    response= requests.get(url , headers={'User-Agent': user_agent})\n",
        "    pg_text=response.text\n",
        "    soup = BeautifulSoup(pg_text, 'html.parser') \n",
        "    item = soup.find('div', attrs={'id':'descItemNumber'})\n",
        "    item_id=item.get_text()\n",
        "    filename = item_id+'.htm'\n",
        "    with open(filename,'w',encoding=\"utf-8\") as f:\n",
        "            f.write(str(response.text))\n",
        "            \n",
        "  "
      ],
      "execution_count": null,
      "outputs": []
    },
    {
      "cell_type": "code",
      "metadata": {
        "id": "qjJqB5bR6-cX",
        "colab_type": "code",
        "colab": {}
      },
      "source": [
        "os.chdir(os.path.normpath(os.getcwd() + os.sep + os.pardir))"
      ],
      "execution_count": null,
      "outputs": []
    },
    {
      "cell_type": "code",
      "metadata": {
        "id": "VQncIu9i6-cc",
        "colab_type": "code",
        "colab": {},
        "outputId": "07316d89-b563-4d33-c8f3-f7722ae8fc22"
      },
      "source": [
        "import os\n",
        "# creating non-sponsored folder\n",
        "try:\n",
        "    os.mkdir('non-sponsored')\n",
        "except OSError:\n",
        "    print (\"Creation of the directory failed\")\n",
        "else:\n",
        "    print (\"Successfully created the directory\")\n"
      ],
      "execution_count": null,
      "outputs": [
        {
          "output_type": "stream",
          "text": [
            "Successfully created the directory\n"
          ],
          "name": "stdout"
        }
      ]
    },
    {
      "cell_type": "code",
      "metadata": {
        "id": "Hb1baNNE6-cj",
        "colab_type": "code",
        "colab": {}
      },
      "source": [
        "#Downloading all non-sponsored links to non-sponsored folder\n",
        "a=list(range(1,11))\n",
        "file=open('non-sponsored.txt','r')\n",
        "lines = file.readlines()\n",
        "os.chdir(\"non-sponsored\")\n",
        "for line in lines:\n",
        "    url = line\n",
        "    headers = {'User-Agent': 'Mozilla/5.0'}\n",
        "    user_agent='Mozilla/5.0'\n",
        "    time.sleep(2)\n",
        "    response= requests.get(url , headers={'User-Agent': user_agent})\n",
        "    pg_text=response.text\n",
        "    soup = BeautifulSoup(pg_text, 'html.parser') \n",
        "    item = soup.find('div', attrs={'id':'descItemNumber'})\n",
        "    item_id=item.get_text()\n",
        "    filename = item_id+'.htm'\n",
        "    with open(filename,'w',encoding=\"utf-8\") as f:\n",
        "            f.write(response.text)\n",
        "         "
      ],
      "execution_count": null,
      "outputs": []
    },
    {
      "cell_type": "markdown",
      "metadata": {
        "id": "pko6h2u76-cq",
        "colab_type": "text"
      },
      "source": [
        "<h6>d) Write a separate piece of code that loops through the pages you downloaded in (c) and opens and parses them into a Python or Java xxxxsoup-object. Identify and select:\n",
        "\n",
        "seller name, seller score, item price, # items sold, best offer available, title, returns allowed, shipping price, condition (e.g., used, new, like new, seller refurbished, ...).\n",
        "\n",
        "In your code, highlight the selector command you choose to obtain each element using comments."
      ]
    },
    {
      "cell_type": "code",
      "metadata": {
        "id": "Uocq3W8p6-cr",
        "colab_type": "code",
        "colab": {}
      },
      "source": [
        "#Creating a dataframe to store the data\n",
        "item_df=pd.DataFrame(columns=[\"item_id\",\"sponsored\",\"seller_name\",\"seller_feedback_score\",\"item_price\",\"item_price_currency\",\"items_sold\",\"title\",\"best_offer\",\"returns\",\"shipping_price_computed\",\"shipping_price\",\"shipping_price_currency\",\"condition\"])\n"
      ],
      "execution_count": null,
      "outputs": []
    },
    {
      "cell_type": "code",
      "metadata": {
        "id": "uSsgwZ7D6-cw",
        "colab_type": "code",
        "colab": {}
      },
      "source": [
        "#non-sponsored files getting the data\n",
        "\n",
        "for filename in os.listdir(os.getcwd()):\n",
        "    with open(filename, 'r', encoding='utf-8') as f:\n",
        "            text = f.read()\n",
        "            \n",
        "            soup = BeautifulSoup(text, 'html.parser') \n",
        "            #item_id selected by div-'id':'descItemNumber'\n",
        "            item_id=soup.find('div', attrs={'id':'descItemNumber'}).get_text()\n",
        "          \n",
        "            \n",
        "            #seller_name selected by span,'class':'mbg-nw'\n",
        "            seller_name = soup.find('span', attrs={'class':'mbg-nw'}).get_text()\n",
        "           \n",
        "            \n",
        "            #seller_feedback_score selected by span,'class':'mbg-l'\n",
        "            seller_feedback_score = soup.find('span', attrs={'class':'mbg-l'}).get_text()\n",
        "            seller_feedback_score=seller_feedback_score.replace(\"(\",\"\")\n",
        "            seller_feedback_score=seller_feedback_score.strip(\")\")\n",
        "            seller_feedback_score=seller_feedback_score.strip()\n",
        "           \n",
        "            \n",
        "            #item_price selected by span, 'class':'notranslate' & div,'id':'vi-mskumap-none'\n",
        "            item_price_text= soup.find('span', attrs={'class':'notranslate'}).get_text()\n",
        "            if((re.search(\"[$|US].*\",item_price_text))):\n",
        "                temp = re.findall(r'\\d+',item_price_text) \n",
        "                res = list(map(int, temp)) \n",
        "                item_price=float((res[0])*100+res[1])\n",
        "                item_price_currency=\"USD\"\n",
        "                \n",
        "            else:\n",
        "                if(item_price_text.isspace()):\n",
        "                    item_price_text= soup.find('div', attrs={'id':'vi-mskumap-none'}).find(\"span\").get_text()\n",
        "                temp5 = re.findall(r'\\d+',item_price_text) \n",
        "                res5 = list(map(int, temp5)) \n",
        "                item_price=float((res5[0])*100+res5[1])\n",
        "                item_price_currency=re.sub('[0-9.]+', \" \",item_price_text)\n",
        "                \n",
        "             #items_sold selected by a,'class':'vi-txt-underline'\n",
        "            items_sold_check=soup.find('a', attrs={'class':'vi-txt-underline'})\n",
        "            if items_sold_check is None:\n",
        "                items_sold=float(\"NAN\")\n",
        "            else:\n",
        "                items_sold=soup.find('a', attrs={'class':'vi-txt-underline'}).get_text()        \n",
        "        \n",
        "            \n",
        "            # title selected by h1,'id':'itemTitle'\n",
        "            title= soup.find('h1', attrs={'id':'itemTitle'}).get_text()\n",
        "            title=title.strip(\"Details about\")\n",
        "         \n",
        "            \n",
        "            #returns_alldata by span,'class':'w2b-sgl'\n",
        "            returns_alldata= soup.find_all('span', attrs={'class':'w2b-sgl'})\n",
        "            for line in returns_alldata:\n",
        "                x=re.search(\".*[R|r]eturns.*\",line.get_text())\n",
        "                if(x):\n",
        "                    returns_text=line.get_text()\n",
        "                    if(returns_text==\"No returns\"):\n",
        "                        returns=0\n",
        "                    elif((returns_text==\"Returns accepted\")|(returns_text==\"30-day returns\")):\n",
        "                        returns=1\n",
        "                    else:\n",
        "                        continue\n",
        "            \n",
        "            #shipping_price by span,id':'shSummary'\n",
        "            shipping_price_text= soup.find('span', attrs={'id':'shSummary'})\n",
        "            if shipping_price_text is None:\n",
        "                shipping_price_text=None\n",
        "            else:\n",
        "                shipping_price_text=shipping_price_text.find(\"span\").get_text()\n",
        "                if((re.search(\".*[FREE|Free].*\",shipping_price_text))):\n",
        "                    shipping_price_computed=0\n",
        "                    shipping_price=0\n",
        "                    shipping_price_currency=\"USD\"\n",
        "                elif(shipping_price_text==\"Varies based on location and shipping method\"):\n",
        "                    shipping_price_computed=1\n",
        "                    shipping_price=None\n",
        "                    shipping_price_currency=\"USD\"\n",
        "                elif((re.search(\"$.*\",shipping_price_text))):\n",
        "                    temp1 = re.findall(r'\\d+',shipping_price_text) \n",
        "                    res1 = list(map(int, temp1)) \n",
        "                    shipping_price_computed=0\n",
        "                    shipping_price=float((res1[0])*100+res1[1])\n",
        "                    shipping_price_currency=\"USD\"\n",
        "                else:    \n",
        "                    temp4 = re.findall(r'\\d+',shipping_price_text) \n",
        "                    res4 = list(map(int, temp4)) \n",
        "                    shipping_price_computed=0\n",
        "                    shipping_price=float((res4[0])*100+res4[1])\n",
        "                    shipping_price_currency=re.sub('[0-9.]+', \" \",shipping_price_text)\n",
        "            \n",
        "                \n",
        "            #best_offer by div,'class':'vi-bbox-dspn u-flL lable boLable'\n",
        "            best_offer_check=soup.find('div', attrs={'class':'vi-bbox-dspn u-flL lable boLable'})\n",
        "            if best_offer_check is None:\n",
        "                best_offer=float(\"NAN\")\n",
        "            else:\n",
        "                best_offer=soup.find('div', attrs={'class':'vi-bbox-dspn u-flL lable boLable'}).get_text()    \n",
        "           \n",
        "            \n",
        "            #condition by div,attrs={'itemprop':'itemCondition'}\n",
        "            condition= soup.find('div', attrs={'itemprop':'itemCondition'}).get_text()\n",
        "           \n",
        "            sponsored=\"NON-SPONSORED\"\n",
        "            \n",
        "            new_row=pd.DataFrame([[item_id,sponsored,seller_name,seller_feedback_score,item_price,item_price_currency,items_sold,title,best_offer,returns,shipping_price_computed,shipping_price,shipping_price_currency,condition]],\n",
        "                                columns=[\"item_id\",\"sponsored\",\"seller_name\",\"seller_feedback_score\",\"item_price\",\"item_price_currency\",\"items_sold\",\"title\",\"best_offer\",\"returns\",\"shipping_price_computed\",\"shipping_price\",\"shipping_price_currency\",\"condition\"])\n",
        "\n",
        "           \n",
        "            item_df=item_df.append(new_row)\n",
        "            \n",
        "   "
      ],
      "execution_count": null,
      "outputs": []
    },
    {
      "cell_type": "code",
      "metadata": {
        "id": "MGt9r9-H6-c1",
        "colab_type": "code",
        "colab": {}
      },
      "source": [
        "f.close()"
      ],
      "execution_count": null,
      "outputs": []
    },
    {
      "cell_type": "code",
      "metadata": {
        "id": "cAMdSmOy6-c5",
        "colab_type": "code",
        "colab": {}
      },
      "source": [
        "os.chdir(os.path.normpath(os.getcwd() + os.sep + os.pardir))"
      ],
      "execution_count": null,
      "outputs": []
    },
    {
      "cell_type": "code",
      "metadata": {
        "id": "6qK6RV236-c-",
        "colab_type": "code",
        "colab": {}
      },
      "source": [
        "\n",
        "os.chdir(\"sponsored\")"
      ],
      "execution_count": null,
      "outputs": []
    },
    {
      "cell_type": "code",
      "metadata": {
        "id": "W4TJfihH6-dD",
        "colab_type": "code",
        "colab": {}
      },
      "source": [
        "#sponsored files getting the data\n",
        "\n",
        "for filename in os.listdir(os.getcwd()):\n",
        "    with open(filename, 'r', encoding='utf-8') as f:\n",
        "            text = f.read()\n",
        "            \n",
        "            soup = BeautifulSoup(text, 'html.parser') \n",
        "            #item_id selected by div-'id':'descItemNumber'\n",
        "            item_id=soup.find('div', attrs={'id':'descItemNumber'}).get_text()\n",
        "          \n",
        "            \n",
        "            #seller_name selected by span,'class':'mbg-nw'\n",
        "            seller_name = soup.find('span', attrs={'class':'mbg-nw'}).get_text()\n",
        "           \n",
        "            \n",
        "            #seller_feedback_score selected by span,'class':'mbg-l'\n",
        "            seller_feedback_score = soup.find('span', attrs={'class':'mbg-l'}).get_text()\n",
        "            seller_feedback_score=seller_feedback_score.replace(\"(\",\"\")\n",
        "            seller_feedback_score=seller_feedback_score.strip(\")\")\n",
        "            seller_feedback_score=seller_feedback_score.strip()\n",
        "           \n",
        "            \n",
        "            #item_price selected by span, 'class':'notranslate' & div,'id':'vi-mskumap-none'\n",
        "            item_price_text= soup.find('span', attrs={'class':'notranslate'}).get_text()\n",
        "            if((re.search(\"[$|US].*\",item_price_text))):\n",
        "                temp = re.findall(r'\\d+',item_price_text) \n",
        "                res = list(map(int, temp)) \n",
        "                item_price=float((res[0])*100+res[1])\n",
        "                item_price_currency=\"USD\"\n",
        "                \n",
        "            else:\n",
        "                if(item_price_text.isspace()):\n",
        "                    item_price_text= soup.find('div', attrs={'id':'vi-mskumap-none'}).find(\"span\").get_text()\n",
        "                temp5 = re.findall(r'\\d+',item_price_text) \n",
        "                res5 = list(map(int, temp5)) \n",
        "                item_price=float((res5[0])*100+res5[1])\n",
        "                item_price_currency=re.sub('[0-9.]+', \" \",item_price_text)\n",
        "                \n",
        "             #items_sold selected by a,'class':'vi-txt-underline'\n",
        "            items_sold_check=soup.find('a', attrs={'class':'vi-txt-underline'})\n",
        "            if items_sold_check is None:\n",
        "                items_sold=float(\"NAN\")\n",
        "            else:\n",
        "                items_sold=soup.find('a', attrs={'class':'vi-txt-underline'}).get_text()        \n",
        "        \n",
        "            \n",
        "            # title selected by h1,'id':'itemTitle'\n",
        "            title= soup.find('h1', attrs={'id':'itemTitle'}).get_text()\n",
        "            title=title.strip(\"Details about\")\n",
        "         \n",
        "            \n",
        "            #returns_alldata by span,'class':'w2b-sgl'\n",
        "            returns_alldata= soup.find_all('span', attrs={'class':'w2b-sgl'})\n",
        "            for line in returns_alldata:\n",
        "                x=re.search(\".*[R|r]eturns.*\",line.get_text())\n",
        "                if(x):\n",
        "                    returns_text=line.get_text()\n",
        "                    if(returns_text==\"No returns\"):\n",
        "                        returns=0\n",
        "                    elif((returns_text==\"Returns accepted\")|(returns_text==\"30-day returns\")):\n",
        "                        returns=1\n",
        "                    else:\n",
        "                        continue\n",
        "            \n",
        "            #shipping_price by span,id':'shSummary'\n",
        "            shipping_price_text= soup.find('span', attrs={'id':'shSummary'})\n",
        "            if shipping_price_text is None:\n",
        "                shipping_price_text=None\n",
        "            else:\n",
        "                shipping_price_text=shipping_price_text.find(\"span\").get_text()\n",
        "                if((re.search(\".*[FREE|Free].*\",shipping_price_text))):\n",
        "                    shipping_price_computed=0\n",
        "                    shipping_price=0\n",
        "                    shipping_price_currency=\"USD\"\n",
        "                elif(shipping_price_text==\"Varies based on location and shipping method\"):\n",
        "                    shipping_price_computed=1\n",
        "                    shipping_price=None\n",
        "                    shipping_price_currency=\"USD\"\n",
        "                elif((re.search(\"$.*\",shipping_price_text))):\n",
        "                    temp1 = re.findall(r'\\d+',shipping_price_text) \n",
        "                    res1 = list(map(int, temp1)) \n",
        "                    shipping_price_computed=0\n",
        "                    shipping_price=float((res1[0])*100+res1[1])\n",
        "                    shipping_price_currency=\"USD\"\n",
        "                else:    \n",
        "                    temp4 = re.findall(r'\\d+',shipping_price_text) \n",
        "                    res4 = list(map(int, temp4)) \n",
        "                    shipping_price_computed=0\n",
        "                    shipping_price=float((res4[0])*100+res4[1])\n",
        "                    shipping_price_currency=re.sub('[0-9.]+', \" \",shipping_price_text)\n",
        "            \n",
        "                \n",
        "            #best_offer by div,'class':'vi-bbox-dspn u-flL lable boLable'\n",
        "            best_offer_check=soup.find('div', attrs={'class':'vi-bbox-dspn u-flL lable boLable'})\n",
        "            if best_offer_check is None:\n",
        "                best_offer=float(\"NAN\")\n",
        "            else:\n",
        "                best_offer=soup.find('div', attrs={'class':'vi-bbox-dspn u-flL lable boLable'}).get_text()    \n",
        "           \n",
        "            \n",
        "            #condition by div,attrs={'itemprop':'itemCondition'}\n",
        "            condition= soup.find('div', attrs={'itemprop':'itemCondition'}).get_text()\n",
        "           \n",
        "            sponsored=\"SPONSORED\"\n",
        "            \n",
        "            new_row=pd.DataFrame([[item_id,sponsored,seller_name,seller_feedback_score,item_price,item_price_currency,items_sold,title,best_offer,returns,shipping_price_computed,shipping_price,shipping_price_currency,condition]],\n",
        "                                columns=[\"item_id\",\"sponsored\",\"seller_name\",\"seller_feedback_score\",\"item_price\",\"item_price_currency\",\"items_sold\",\"title\",\"best_offer\",\"returns\",\"shipping_price_computed\",\"shipping_price\",\"shipping_price_currency\",\"condition\"])\n",
        "\n",
        "           \n",
        "            item_df=item_df.append(new_row)\n",
        "            \n",
        "   "
      ],
      "execution_count": null,
      "outputs": []
    },
    {
      "cell_type": "code",
      "metadata": {
        "id": "R_u9EbGe6-dH",
        "colab_type": "code",
        "colab": {}
      },
      "source": [
        "#data wrangling\n",
        "\n",
        "#items_sold getting the number\n",
        "item_df['items_sold']=item_df['items_sold'].str.replace(r'\\D', '')\n",
        "\n",
        "#items_sold making a copy sqldata\n",
        "sqldata=item_df\n",
        "\n",
        "#replacing nan with None\n",
        "sqldata = sqldata.replace({pd.np.nan: None})\n",
        "\n",
        "#converting numeric\n",
        "sqldata['items_sold']=pd.to_numeric(sqldata['items_sold'])\n",
        "sqldata['seller_feedback_score']=pd.to_numeric(sqldata['seller_feedback_score'])\n",
        "sqldata['item_price']=pd.to_numeric(sqldata['item_price'])\n",
        "sqldata['shipping_price']=pd.to_numeric(sqldata['shipping_price'])\n",
        "\n",
        "#data wrangling converting best_offer from text to 1 indicating availability of best offer\n",
        "sqldata['best_offer']=sqldata['best_offer'].fillna(0)\n",
        "sqldata.loc[(sqldata['best_offer'] == 'Best Offer:'), 'best_offer'] = 1 \n",
        "\n",
        "#Getting all prices' currencies the US $ to USD\n",
        "sqldata.loc[(sqldata['item_price_currency'] == 'US $ '), 'item_price_currency'] = 'USD'\n",
        "sqldata.loc[(sqldata['shipping_price_currency'] == 'US $ '), 'item_price_currency'] = 'USD'"
      ],
      "execution_count": null,
      "outputs": []
    },
    {
      "cell_type": "code",
      "metadata": {
        "id": "x1dumBe_6-dL",
        "colab_type": "code",
        "colab": {},
        "outputId": "ba2b74b1-d5b3-493c-d2ce-66c91e393568"
      },
      "source": [
        "#no of unique items\n",
        "sqldata['item_id'].nunique()"
      ],
      "execution_count": null,
      "outputs": [
        {
          "output_type": "execute_result",
          "data": {
            "text/plain": [
              "748"
            ]
          },
          "metadata": {
            "tags": []
          },
          "execution_count": 54
        }
      ]
    },
    {
      "cell_type": "markdown",
      "metadata": {
        "id": "Y0Totm8v6-dP",
        "colab_type": "text"
      },
      "source": [
        "<h6> Connect to SQL (here it is MySQL). Create a database and name it \"eBay\". Save the information of product listings' details into a single table named \"eBay_items\" . This table should contain both sponsored and non-sponsored information and have a column that specifies which item is sponsored/non-sponsored.  "
      ]
    },
    {
      "cell_type": "markdown",
      "metadata": {
        "id": "6Z68-TWk6-dQ",
        "colab_type": "text"
      },
      "source": [
        "Note: Already converted the Dollars into cents before inserting into the table.None in the dataframe are converted to NULL by mySQL"
      ]
    },
    {
      "cell_type": "code",
      "metadata": {
        "id": "cCkn9FHH6-dQ",
        "colab_type": "code",
        "colab": {},
        "outputId": "ab23ea2b-90bc-46af-b2f3-70200f3ac6f6"
      },
      "source": [
        "#connecting to workbench mysql\n",
        "import mysql.connector\n",
        "from mysql.connector import errorcode\n",
        "\n",
        "try:\n",
        "  cnx = mysql.connector.connect(user='root',\n",
        "                                password='Swati9000', host='localhost')\n",
        "except mysql.connector.Error as err:\n",
        "  if err.errno == errorcode.ER_ACCESS_DENIED_ERROR:\n",
        "    print(\"Something is wrong with your user name or password\")\n",
        "  elif err.errno == errorcode.ER_BAD_DB_ERROR:\n",
        "    print(\"Database does not exist\")\n",
        "  else:\n",
        "    print(err)\n",
        "else:\n",
        "   if (cnx.is_connected()):\n",
        "        print(\"Connected\")\n",
        "        db_Info = cnx.get_server_info()\n",
        "        print(\"Connected to MySQL database... MySQL Server version on \",db_Info)\n",
        "  "
      ],
      "execution_count": null,
      "outputs": [
        {
          "output_type": "stream",
          "text": [
            "Connected\n",
            "Connected to MySQL database... MySQL Server version on  8.0.17\n"
          ],
          "name": "stdout"
        }
      ]
    },
    {
      "cell_type": "markdown",
      "metadata": {
        "id": "xBuLKzuU6-dV",
        "colab_type": "text"
      },
      "source": [
        " creates a database named eBay"
      ]
    },
    {
      "cell_type": "code",
      "metadata": {
        "id": "mjt4rKIo6-dW",
        "colab_type": "code",
        "colab": {},
        "outputId": "aa2b998b-95a4-4528-bab4-fbb63b403f50"
      },
      "source": [
        "# creating database_cursor to perform SQL operation\n",
        "db_cursor = cnx.cursor()\n",
        "# executing cursor with execute method and pass SQL query\n",
        "db_cursor.execute(\"CREATE DATABASE eBay\")\n",
        "# get list of all databases\n",
        "db_cursor.execute(\"SHOW DATABASES\")\n",
        "#print all databases\n",
        "for db in db_cursor:\n",
        "\tprint(db)"
      ],
      "execution_count": null,
      "outputs": [
        {
          "output_type": "stream",
          "text": [
            "('accountspayable',)\n",
            "('avidreader',)\n",
            "('bowlingleagueexample',)\n",
            "('br',)\n",
            "('colonial',)\n",
            "('ebay',)\n",
            "('entertainmentagencyexample',)\n",
            "('information_schema',)\n",
            "('my_first_db',)\n",
            "('mysql',)\n",
            "('oact',)\n",
            "('peoplefun',)\n",
            "('performance_schema',)\n",
            "('recipesdatabase',)\n",
            "('sakila',)\n",
            "('salesordersdatabase',)\n",
            "('sys',)\n",
            "('ucdavis',)\n",
            "('world',)\n"
          ],
          "name": "stdout"
        }
      ]
    },
    {
      "cell_type": "code",
      "metadata": {
        "id": "CF6ajlaz6-db",
        "colab_type": "code",
        "colab": {}
      },
      "source": [
        "db_cursor.close()\n",
        "cnx.close()"
      ],
      "execution_count": null,
      "outputs": []
    },
    {
      "cell_type": "markdown",
      "metadata": {
        "id": "Bm9ASd_K6-df",
        "colab_type": "text"
      },
      "source": [
        "creates a table eBay_items"
      ]
    },
    {
      "cell_type": "code",
      "metadata": {
        "id": "_IODsO-86-dg",
        "colab_type": "code",
        "colab": {},
        "outputId": "b7f8e410-b990-4b16-e52e-d173aa50c596"
      },
      "source": [
        "#Here creating database table as eBay_items\n",
        "db_connection = mysql.connector.connect(\n",
        " user='root',password='Swati9000', host='localhost',database=\"eBay\"\n",
        "  )\n",
        "db_cursor = db_connection.cursor()\n",
        "db_cursor.execute(\"CREATE TABLE eBay_items(record_id INT NOT NULL AUTO_INCREMENT,item_id VARCHAR(255),title VARCHAR(600),sponsored VARCHAR(20),seller_name VARCHAR(255),seller_feedback_score INT(10),item_price INT(10),item_price_currency VARCHAR(4),items_sold INT(5),best_offer_available VARCHAR(255),returns_allowed BOOLEAN,shipping_price_computed BOOLEAN, shipping_price INT(5), shipping_price_currency VARCHAR(4),item_condition VARCHAR(255),PRIMARY KEY(record_id))\")\n",
        "   \n",
        "#Get database table'\n",
        "db_cursor.execute(\"SHOW TABLES\")\n",
        "for table in db_cursor:\n",
        "\tprint(table)\n",
        "db_cursor.close()\n",
        "db_connection.close()"
      ],
      "execution_count": null,
      "outputs": [
        {
          "output_type": "stream",
          "text": [
            "('ebay_items',)\n"
          ],
          "name": "stdout"
        }
      ]
    },
    {
      "cell_type": "code",
      "metadata": {
        "id": "kuq2mMIR6-dm",
        "colab_type": "code",
        "colab": {}
      },
      "source": [
        "#replacing nan with None\n",
        "sqldata = sqldata.astype(object).where(pd.notnull(sqldata), None)"
      ],
      "execution_count": null,
      "outputs": []
    },
    {
      "cell_type": "code",
      "metadata": {
        "scrolled": false,
        "id": "yhfoWBxS6-dr",
        "colab_type": "code",
        "colab": {}
      },
      "source": [
        "#getting each row in the datframe item_df and inserting into the sql table omdb\n",
        "db_connection = mysql.connector.connect(\n",
        " user='root',password='Swati9000', host='localhost',database=\"eBay\"\n",
        "  )\n",
        "db_cursor = db_connection.cursor()\n",
        "for index, row in sqldata.iterrows():\n",
        "    #inserting into the table \n",
        "    try:\n",
        "        sql_query = \"INSERT INTO eBay_items(item_id,title,sponsored,seller_name,seller_feedback_score,item_price,item_price_currency,items_sold,best_offer_available,returns_allowed,shipping_price_computed, shipping_price , shipping_price_currency,item_condition) VALUES(%s, %s, %s, %s, %s,%s,%s,%s, %s, %s, %s, %s,%s,%s)\"\n",
        "        record=(row['item_id'],row['title'],row['sponsored'],row['seller_name'],row['seller_feedback_score'], row['item_price'],row['item_price_currency'],row['items_sold'],row['best_offer'],row['returns'],row['shipping_price_computed'],row['shipping_price'],row['shipping_price_currency'],row['condition'])\n",
        "        db_cursor.execute(sql_query,record)\n",
        "    except mysql.connector.IntegrityError as err:\n",
        "        print(\"Error: {}\".format(err))"
      ],
      "execution_count": null,
      "outputs": []
    },
    {
      "cell_type": "code",
      "metadata": {
        "id": "71B2ihNo6-dw",
        "colab_type": "code",
        "colab": {}
      },
      "source": [
        "db_connection.commit()"
      ],
      "execution_count": null,
      "outputs": []
    },
    {
      "cell_type": "code",
      "metadata": {
        "id": "QTKvBYjm6-d0",
        "colab_type": "code",
        "colab": {},
        "outputId": "794291ec-7981-4a91-a775-f528fd43b009"
      },
      "source": [
        "#validating whether records were inserted\n",
        "db_cursor = db_connection.cursor()\n",
        "db_cursor.execute(\"select * from eBay_items\")\n",
        "records = db_cursor.fetchall()\n",
        "print(\"Total number of rows in eBay_items is: \", db_cursor.rowcount)\n",
        "db_cursor.close()\n",
        "db_connection.close()"
      ],
      "execution_count": null,
      "outputs": [
        {
          "output_type": "stream",
          "text": [
            "Total number of rows in eBay_items is:  748\n"
          ],
          "name": "stdout"
        }
      ]
    },
    {
      "cell_type": "markdown",
      "metadata": {
        "id": "FDK7kVSd6-d5",
        "colab_type": "text"
      },
      "source": [
        "<h6>f) Use your code script (and NOT SQL GUI or command terminal) to run summary stats on each item. Print to the screen the mean, min, max, and mean for each column, grouped by \"sponsor/non-sponsor\" and \"condition\" (group by at the same time, not separately). For binary categorical columns, use 0-1 conversion. For e.g., for the \"returns allowed\" convert YES to 1 and NO to 0 and then calculate the stats. If it is NOT a numerical/binary categorical column, print to the screen the count of each category level. You will need to ignore NULL values in your statistic calculations. "
      ]
    },
    {
      "cell_type": "markdown",
      "metadata": {
        "id": "p2lbXvJf6-d6",
        "colab_type": "text"
      },
      "source": [
        "Note: mySQL ignores NULL which calculating statistics\n",
        "Source: https://www.mysqltutorial.org/mysql-avg/"
      ]
    },
    {
      "cell_type": "code",
      "metadata": {
        "id": "kYkfluag6-d6",
        "colab_type": "code",
        "colab": {},
        "outputId": "9aec6c23-2327-4fa7-8191-f8e26255a013"
      },
      "source": [
        "#Statistics on seller_feedback score\n",
        "db_connection = mysql.connector.connect(\n",
        " user='root',password='Swati9000', host='localhost',database=\"eBay\"\n",
        "  )\n",
        "db_cursor = db_connection.cursor()\n",
        "db_cursor.execute(\"select sponsored,item_condition, max(seller_feedback_score) as 'Max_Seller_Score', min(seller_feedback_score) as 'Min_Seller_Score', round(avg(seller_feedback_score),2) as 'Mean_Seller_Score',round(stddev(seller_feedback_score),2) as 'Standard_Deviation_Seller_Score' from ebay_items group by sponsored,item_condition\")\n",
        "records = db_cursor.fetchall()\n",
        "seller_feedback=pd.DataFrame(records, columns=[\"sponsored\",\"item_condition\",\"Max\",\"Min\",\"Mean\",\"Std_Deviations\"])\n",
        "print(seller_feedback)\n",
        "db_cursor.close()"
      ],
      "execution_count": null,
      "outputs": [
        {
          "output_type": "stream",
          "text": [
            "        sponsored            item_condition      Max   Min      Mean  \\\n",
            "0   NON-SPONSORED                       New   102022    59   6556.14   \n",
            "1   NON-SPONSORED        Seller refurbished  2266102     1  95519.98   \n",
            "2   NON-SPONSORED                      Used   311772     0  13133.40   \n",
            "3   NON-SPONSORED  Manufacturer refurbished   382304     0  69028.93   \n",
            "4   NON-SPONSORED  For parts or not working    99895     0  16904.96   \n",
            "5   NON-SPONSORED                  Open box   106215     3  39286.10   \n",
            "6       SPONSORED                       New    23265  1248   9660.00   \n",
            "7       SPONSORED                      Used    18616     0   8003.44   \n",
            "8       SPONSORED  For parts or not working   102021    32  36383.33   \n",
            "9       SPONSORED  Manufacturer refurbished    84743    59  55094.07   \n",
            "10      SPONSORED                  Open box   102021   530  24054.00   \n",
            "11      SPONSORED        Seller refurbished    84743   673  24073.69   \n",
            "\n",
            "    Std_Deviations  \n",
            "0         20998.26  \n",
            "1        323533.71  \n",
            "2         41330.98  \n",
            "3         80947.14  \n",
            "4         25637.19  \n",
            "5         47773.38  \n",
            "6          8493.46  \n",
            "7          6754.23  \n",
            "8         38718.74  \n",
            "9         36506.61  \n",
            "10        39200.31  \n",
            "11        20554.59  \n"
          ],
          "name": "stdout"
        },
        {
          "output_type": "execute_result",
          "data": {
            "text/plain": [
              "True"
            ]
          },
          "metadata": {
            "tags": []
          },
          "execution_count": 75
        }
      ]
    },
    {
      "cell_type": "code",
      "metadata": {
        "id": "_mIphHMP6-eA",
        "colab_type": "code",
        "colab": {},
        "outputId": "1200c296-81ce-497c-e4e0-2a2c05afc7db"
      },
      "source": [
        "#Statistics on item_price\n",
        "db_cursor = db_connection.cursor()\n",
        "db_cursor.execute(\"select sponsored,item_condition,item_price_currency, max(item_price), min(item_price), round(avg(item_price),2) ,round(stddev(item_price),2)  from ebay_items group by sponsored,item_condition,item_price_currency\")\n",
        "records = db_cursor.fetchall()\n",
        "item_price=pd.DataFrame(records, columns=[\"sponsored\",\"item_condition\",\"item_price_currency\",\"Max\",\"Min\",\"Mean\",\"Std_Deviations\"])\n",
        "print(item_price)\n",
        "db_cursor.close()"
      ],
      "execution_count": null,
      "outputs": [
        {
          "output_type": "stream",
          "text": [
            "        sponsored            item_condition item_price_currency    Max    Min  \\\n",
            "0   NON-SPONSORED                       New                 USD  99998   3599   \n",
            "1   NON-SPONSORED        Seller refurbished                 USD  99999   7995   \n",
            "2   NON-SPONSORED                      Used                 USD  99999    100   \n",
            "3   NON-SPONSORED  Manufacturer refurbished                 USD  82900   1899   \n",
            "4   NON-SPONSORED  For parts or not working                 USD  22222    999   \n",
            "5   NON-SPONSORED                       New                GBP     399    399   \n",
            "6   NON-SPONSORED                  Open box                 USD  75000   8995   \n",
            "7   NON-SPONSORED                      Used                GBP   19900  19900   \n",
            "8       SPONSORED                       New                GBP     399    285   \n",
            "9       SPONSORED                      Used                 USD  21799   4999   \n",
            "10      SPONSORED  For parts or not working                 USD  12000   1500   \n",
            "11      SPONSORED  Manufacturer refurbished                 USD  17985   9699   \n",
            "12      SPONSORED                  Open box                 USD  29999   9995   \n",
            "13      SPONSORED        Seller refurbished                 USD  20000   7550   \n",
            "14      SPONSORED                       New                 USD  39000  33999   \n",
            "\n",
            "        Mean  Std_Deviations  \n",
            "0   61043.71        32098.83  \n",
            "1   20613.45        20065.98  \n",
            "2   15277.87        12243.33  \n",
            "3   21364.86        18380.73  \n",
            "4    6078.92         3023.00  \n",
            "5     399.00            0.00  \n",
            "6   20223.26        12462.70  \n",
            "7   19900.00            0.00  \n",
            "8     342.00           57.00  \n",
            "9   12876.22         5282.52  \n",
            "10   7043.75         3153.25  \n",
            "11  12783.67         2602.99  \n",
            "12  18176.80         6704.47  \n",
            "13  12101.54         2377.98  \n",
            "14  36499.50         2500.50  \n"
          ],
          "name": "stdout"
        },
        {
          "output_type": "execute_result",
          "data": {
            "text/plain": [
              "True"
            ]
          },
          "metadata": {
            "tags": []
          },
          "execution_count": 76
        }
      ]
    },
    {
      "cell_type": "code",
      "metadata": {
        "id": "hXw6L_7f6-eF",
        "colab_type": "code",
        "colab": {},
        "outputId": "184b8c6b-ddf3-48f3-b634-f99838037a30"
      },
      "source": [
        "#Statistics on shipping_price\n",
        "db_cursor = db_connection.cursor()\n",
        "db_cursor.execute(\"select sponsored,item_condition,shipping_price_currency, max(shipping_price), min(shipping_price), round(avg(shipping_price),2) ,round(stddev(shipping_price),2)  from ebay_items group by sponsored,item_condition,shipping_price_currency\")\n",
        "records = db_cursor.fetchall()\n",
        "shipping_price=pd.DataFrame(records, columns=[\"sponsored\",\"item_condition\",\"shipping_price_currency\",\"Max\",\"Min\",\"Mean\",\"Std_Deviations\"])\n",
        "print(shipping_price)\n",
        "db_cursor.close()"
      ],
      "execution_count": null,
      "outputs": [
        {
          "output_type": "stream",
          "text": [
            "        sponsored            item_condition shipping_price_currency   Max  \\\n",
            "0   NON-SPONSORED                       New                     USD  3850   \n",
            "1   NON-SPONSORED        Seller refurbished                     USD  1995   \n",
            "2   NON-SPONSORED                      Used                     USD  4995   \n",
            "3   NON-SPONSORED  Manufacturer refurbished                     USD     0   \n",
            "4   NON-SPONSORED  For parts or not working                     USD  2425   \n",
            "5   NON-SPONSORED                  Open box                     USD  1400   \n",
            "6       SPONSORED                       New                     USD   300   \n",
            "7       SPONSORED                      Used                     USD   495   \n",
            "8       SPONSORED  For parts or not working                     USD  2000   \n",
            "9       SPONSORED  Manufacturer refurbished                     USD     0   \n",
            "10      SPONSORED                  Open box                     USD     0   \n",
            "11      SPONSORED        Seller refurbished                     USD  1505   \n",
            "\n",
            "    Min    Mean  Std_Deviations  \n",
            "0     0  888.41         1238.80  \n",
            "1     0   70.61          325.15  \n",
            "2     0  220.28          565.15  \n",
            "3     0    0.00            0.00  \n",
            "4     0  215.59          458.93  \n",
            "5     0   33.33          213.44  \n",
            "6     0   75.00          129.90  \n",
            "7     0   55.00          155.56  \n",
            "8     0  308.33          692.17  \n",
            "9     0    0.00            0.00  \n",
            "10    0    0.00            0.00  \n",
            "11    0   57.88          289.42  \n"
          ],
          "name": "stdout"
        },
        {
          "output_type": "execute_result",
          "data": {
            "text/plain": [
              "True"
            ]
          },
          "metadata": {
            "tags": []
          },
          "execution_count": 77
        }
      ]
    },
    {
      "cell_type": "code",
      "metadata": {
        "id": "PihGCEWr6-eK",
        "colab_type": "code",
        "colab": {},
        "outputId": "04d41258-609d-4b56-9f41-c224a3dc44bc"
      },
      "source": [
        "#items_sold\n",
        "db_cursor = db_connection.cursor()\n",
        "db_cursor.execute(\"select sponsored,item_condition, max(items_sold), min(items_sold), round(avg(items_sold),2) ,round(stddev(items_sold),2)  from ebay_items group by sponsored,item_condition\")\n",
        "records = db_cursor.fetchall()\n",
        "items_sold=pd.DataFrame(records, columns=[\"sponsored\",\"item_condition\",\"Max\",\"Min\",\"Mean\",\"Std_Deviations\"])\n",
        "print(items_sold)\n",
        "db_cursor.close()"
      ],
      "execution_count": null,
      "outputs": [
        {
          "output_type": "stream",
          "text": [
            "        sponsored            item_condition    Max  Min    Mean  \\\n",
            "0   NON-SPONSORED                       New     29    1    8.67   \n",
            "1   NON-SPONSORED        Seller refurbished   1256    1  130.78   \n",
            "2   NON-SPONSORED                      Used    536    1   45.00   \n",
            "3   NON-SPONSORED  Manufacturer refurbished  18682    1  549.80   \n",
            "4   NON-SPONSORED  For parts or not working      3    1    2.00   \n",
            "5   NON-SPONSORED                  Open box    753    1  158.42   \n",
            "6       SPONSORED                       New    140   85  112.50   \n",
            "7       SPONSORED                      Used    134    2   51.80   \n",
            "8       SPONSORED  For parts or not working      7    1    4.00   \n",
            "9       SPONSORED  Manufacturer refurbished   3294    2  412.76   \n",
            "10      SPONSORED                  Open box    147    6   73.67   \n",
            "11      SPONSORED        Seller refurbished   2379    4  306.04   \n",
            "\n",
            "    Std_Deviations  \n",
            "0             8.72  \n",
            "1           262.20  \n",
            "2           109.30  \n",
            "3          2612.34  \n",
            "4             1.00  \n",
            "5           228.05  \n",
            "6            27.50  \n",
            "7            48.40  \n",
            "8             3.00  \n",
            "9           690.04  \n",
            "10           57.70  \n",
            "11          495.25  \n"
          ],
          "name": "stdout"
        },
        {
          "output_type": "execute_result",
          "data": {
            "text/plain": [
              "True"
            ]
          },
          "metadata": {
            "tags": []
          },
          "execution_count": 78
        }
      ]
    },
    {
      "cell_type": "code",
      "metadata": {
        "id": "PuozEZMa6-eQ",
        "colab_type": "code",
        "colab": {},
        "outputId": "1464c705-64f0-40c3-bf83-9aef64485f96"
      },
      "source": [
        "#returns allowed\n",
        "db_cursor = db_connection.cursor()\n",
        "db_cursor.execute(\"select sponsored,item_condition, max(returns_allowed), min(returns_allowed), round(avg(returns_allowed),2) ,round(stddev(returns_allowed),2)  from ebay_items group by sponsored,item_condition\")\n",
        "records = db_cursor.fetchall()\n",
        "returns_allowed=pd.DataFrame(records, columns=[\"sponsored\",\"item_condition\",\"Max\",\"Min\",\"Mean\",\"Std_Deviations\"])\n",
        "print(returns_allowed)\n",
        "db_cursor.close()"
      ],
      "execution_count": null,
      "outputs": [
        {
          "output_type": "stream",
          "text": [
            "        sponsored            item_condition  Max  Min  Mean  Std_Deviations\n",
            "0   NON-SPONSORED                       New    1    0  0.95            0.21\n",
            "1   NON-SPONSORED        Seller refurbished    1    0  0.95            0.22\n",
            "2   NON-SPONSORED                      Used    1    0  0.50            0.50\n",
            "3   NON-SPONSORED  Manufacturer refurbished    1    0  0.93            0.26\n",
            "4   NON-SPONSORED  For parts or not working    1    0  0.43            0.49\n",
            "5   NON-SPONSORED                  Open box    1    0  0.79            0.41\n",
            "6       SPONSORED                       New    1    0  0.75            0.43\n",
            "7       SPONSORED                      Used    1    0  0.78            0.42\n",
            "8       SPONSORED  For parts or not working    1    0  0.67            0.47\n",
            "9       SPONSORED  Manufacturer refurbished    1    1  1.00            0.00\n",
            "10      SPONSORED                  Open box    1    1  1.00            0.00\n",
            "11      SPONSORED        Seller refurbished    1    1  1.00            0.00\n"
          ],
          "name": "stdout"
        },
        {
          "output_type": "execute_result",
          "data": {
            "text/plain": [
              "True"
            ]
          },
          "metadata": {
            "tags": []
          },
          "execution_count": 79
        }
      ]
    },
    {
      "cell_type": "code",
      "metadata": {
        "id": "62pM0B4h6-eV",
        "colab_type": "code",
        "colab": {},
        "outputId": "d95579d0-71ea-4e5e-cf23-b2b141f79d19"
      },
      "source": [
        "#best offer\n",
        "db_connection = mysql.connector.connect(\n",
        " user='root',password='Swati9000', host='localhost',database=\"eBay\")\n",
        "db_cursor = db_connection.cursor()\n",
        "db_cursor.execute(\"select sponsored,item_condition, max(best_offer_available), min(best_offer_available), round(avg(best_offer_available),2) ,round(stddev(best_offer_available),2)  from ebay_items group by sponsored,item_condition\")\n",
        "\n",
        "records = db_cursor.fetchall()\n",
        "best_offer=pd.DataFrame(records, columns=[\"sponsored\",\"item_condition\",\"Max\",\"Min\",\"Mean\",\"Std_Deviations\"])\n",
        "print(best_offer)"
      ],
      "execution_count": null,
      "outputs": [
        {
          "output_type": "stream",
          "text": [
            "        sponsored            item_condition Max Min  Mean  Std_Deviations\n",
            "0   NON-SPONSORED                       New   1   0  0.27            0.45\n",
            "1   NON-SPONSORED        Seller refurbished   1   0  0.08            0.27\n",
            "2   NON-SPONSORED                      Used   1   0  0.48            0.50\n",
            "3   NON-SPONSORED  Manufacturer refurbished   1   0  0.10            0.30\n",
            "4   NON-SPONSORED  For parts or not working   1   0  0.32            0.47\n",
            "5   NON-SPONSORED                  Open box   1   0  0.17            0.37\n",
            "6       SPONSORED                       New   1   0  0.25            0.43\n",
            "7       SPONSORED                      Used   1   0  0.44            0.50\n",
            "8       SPONSORED  For parts or not working   1   0  0.42            0.49\n",
            "9       SPONSORED  Manufacturer refurbished   1   0  0.04            0.19\n",
            "10      SPONSORED                  Open box   0   0  0.00            0.00\n",
            "11      SPONSORED        Seller refurbished   1   0  0.08            0.27\n"
          ],
          "name": "stdout"
        }
      ]
    },
    {
      "cell_type": "code",
      "metadata": {
        "id": "1HmmrcoI6-ea",
        "colab_type": "code",
        "colab": {},
        "outputId": "f9de2d99-bb90-48e5-9f2c-9a6642b701c7"
      },
      "source": [
        "#sellername, item_titles\n",
        "db_connection = mysql.connector.connect(\n",
        " user='root',password='Swati9000', host='localhost',database=\"eBay\")\n",
        "db_cursor = db_connection.cursor()\n",
        "db_cursor.execute(\"select sponsored,item_condition,count(distinct(seller_name)), count(distinct(title)) from ebay_items group by sponsored,item_condition\")\n",
        "\n",
        "records = db_cursor.fetchall()\n",
        "cat_var=pd.DataFrame(records, columns=[\"sponsored\",\"item_condition\",\"sellers\",\"unique_items\"])\n",
        "print(cat_var)"
      ],
      "execution_count": null,
      "outputs": [
        {
          "output_type": "stream",
          "text": [
            "        sponsored            item_condition  sellers  unique_items\n",
            "0   NON-SPONSORED  For parts or not working       57            86\n",
            "1   NON-SPONSORED  Manufacturer refurbished       29            78\n",
            "2   NON-SPONSORED                       New       11            22\n",
            "3   NON-SPONSORED                  Open box       20            42\n",
            "4   NON-SPONSORED        Seller refurbished       40            92\n",
            "5   NON-SPONSORED                      Used      241           269\n",
            "6       SPONSORED  For parts or not working       10            12\n",
            "7       SPONSORED  Manufacturer refurbished        8            27\n",
            "8       SPONSORED                       New        4             4\n",
            "9       SPONSORED                  Open box        4             5\n",
            "10      SPONSORED        Seller refurbished       10            26\n",
            "11      SPONSORED                      Used        8             9\n"
          ],
          "name": "stdout"
        }
      ]
    },
    {
      "cell_type": "code",
      "metadata": {
        "id": "efkgryCD6-ef",
        "colab_type": "code",
        "colab": {},
        "outputId": "39a3054f-8f6a-49cf-ed74-fab8de8ebe62"
      },
      "source": [
        "#sponsored_best offer\n",
        "db_connection = mysql.connector.connect(\n",
        " user='root',password='Swati9000', host='localhost',database=\"eBay\")\n",
        "db_cursor = db_connection.cursor()\n",
        "db_cursor.execute(\"select sponsored, max(best_offer_available), min(best_offer_available), round(avg(best_offer_available),2) ,round(stddev(best_offer_available),2)  from ebay_items group by sponsored\")\n",
        "\n",
        "records = db_cursor.fetchall()\n",
        "sponsored_best_offer=pd.DataFrame(records, columns=[\"sponsored\",\"Max\",\"Min\",\"Mean\",\"Std_Deviations\"])\n",
        "print(sponsored_best_offer)"
      ],
      "execution_count": null,
      "outputs": [
        {
          "output_type": "stream",
          "text": [
            "       sponsored Max Min  Mean  Std_Deviations\n",
            "0  NON-SPONSORED   1   0  0.32            0.47\n",
            "1      SPONSORED   1   0  0.16            0.36\n"
          ],
          "name": "stdout"
        }
      ]
    },
    {
      "cell_type": "code",
      "metadata": {
        "id": "uyIWo4qR6-ek",
        "colab_type": "code",
        "colab": {},
        "outputId": "a7e39939-46b7-47b7-bdbb-83df9dca1672"
      },
      "source": [
        "#sponsored_ items_sold\n",
        "db_connection = mysql.connector.connect(\n",
        " user='root',password='Swati9000', host='localhost',database=\"eBay\")\n",
        "db_cursor = db_connection.cursor()\n",
        "db_cursor.execute(\"select sponsored, max(items_sold), min(items_sold), round(avg(items_sold),2) ,round(stddev(items_sold),2)  from ebay_items group by sponsored\")\n",
        "\n",
        "records = db_cursor.fetchall()\n",
        "sponsored_items_sold=pd.DataFrame(records, columns=[\"sponsored\",\"Max\",\"Min\",\"Mean\",\"Std_Deviations\"])\n",
        "print(sponsored_items_sold)"
      ],
      "execution_count": null,
      "outputs": [
        {
          "output_type": "stream",
          "text": [
            "       sponsored    Max  Min    Mean  Std_Deviations\n",
            "0  NON-SPONSORED  18682    1  219.98         1392.46\n",
            "1      SPONSORED   3294    1  301.18          556.69\n"
          ],
          "name": "stdout"
        }
      ]
    },
    {
      "cell_type": "code",
      "metadata": {
        "id": "ErQI3ufY6-ep",
        "colab_type": "code",
        "colab": {},
        "outputId": "6839c71c-04e3-4d49-a3bd-6947d374e2a3"
      },
      "source": [
        "#sponsored_ item_price\n",
        "db_connection = mysql.connector.connect(\n",
        " user='root',password='Swati9000', host='localhost',database=\"eBay\")\n",
        "db_cursor = db_connection.cursor()\n",
        "db_cursor.execute(\"select sponsored, max(item_price), min(item_price), round(avg(item_price),2) ,round(stddev(item_price),2)  from ebay_items group by sponsored\")\n",
        "\n",
        "records = db_cursor.fetchall()\n",
        "sponsored_item_price=pd.DataFrame(records, columns=[\"sponsored\",\"Max\",\"Min\",\"Mean\",\"Std_Deviations\"])\n",
        "print(sponsored_item_price)"
      ],
      "execution_count": null,
      "outputs": [
        {
          "output_type": "stream",
          "text": [
            "       sponsored    Max  Min      Mean  Std_Deviations\n",
            "0  NON-SPONSORED  99999  100  17287.81        17402.78\n",
            "1      SPONSORED  39000  285  12346.71         5920.43\n"
          ],
          "name": "stdout"
        }
      ]
    },
    {
      "cell_type": "code",
      "metadata": {
        "id": "hEErP7hR6-eu",
        "colab_type": "code",
        "colab": {},
        "outputId": "e274fa8b-adf0-4ebd-fae9-5a86da463801"
      },
      "source": [
        "#sponsored_ shipping_price\n",
        "db_connection = mysql.connector.connect(\n",
        " user='root',password='Swati9000', host='localhost',database=\"eBay\")\n",
        "db_cursor = db_connection.cursor()\n",
        "db_cursor.execute(\"select sponsored, max(shipping_price), min(shipping_price), round(avg(shipping_price),2) ,round(stddev(shipping_price),2)  from ebay_items group by sponsored\")\n",
        "\n",
        "records = db_cursor.fetchall()\n",
        "sponsored_shipping_price=pd.DataFrame(records, columns=[\"sponsored\",\"Max\",\"Min\",\"Mean\",\"Std_Deviations\"])\n",
        "print(sponsored_shipping_price)"
      ],
      "execution_count": null,
      "outputs": [
        {
          "output_type": "stream",
          "text": [
            "       sponsored   Max  Min    Mean  Std_Deviations\n",
            "0  NON-SPONSORED  4995    0  181.15          530.85\n",
            "1      SPONSORED  2000    0   72.29          330.32\n"
          ],
          "name": "stdout"
        }
      ]
    },
    {
      "cell_type": "code",
      "metadata": {
        "id": "tEQM8HT76-e3",
        "colab_type": "code",
        "colab": {},
        "outputId": "3ddb8ebe-d8f4-4bdc-9bf6-c96a849a02ee"
      },
      "source": [
        "#sponsored_ returns\n",
        "db_connection = mysql.connector.connect(\n",
        " user='root',password='Swati9000', host='localhost',database=\"eBay\")\n",
        "db_cursor = db_connection.cursor()\n",
        "db_cursor.execute(\"select sponsored, max(returns_allowed), min(returns_allowed), round(avg(returns_allowed),2) ,round(stddev(returns_allowed),2)  from ebay_items group by sponsored\")\n",
        "\n",
        "records = db_cursor.fetchall()\n",
        "sponsored_returns_allowed=pd.DataFrame(records, columns=[\"sponsored\",\"Max\",\"Min\",\"Mean\",\"Std_Deviations\"])\n",
        "print(sponsored_returns_allowed)"
      ],
      "execution_count": null,
      "outputs": [
        {
          "output_type": "stream",
          "text": [
            "       sponsored  Max  Min  Mean  Std_Deviations\n",
            "0  NON-SPONSORED    1    0  0.64            0.48\n",
            "1      SPONSORED    1    0  0.92            0.28\n"
          ],
          "name": "stdout"
        }
      ]
    },
    {
      "cell_type": "code",
      "metadata": {
        "id": "zzu-rD7i6-e9",
        "colab_type": "code",
        "colab": {},
        "outputId": "025aeb09-37e7-4a64-b0a3-06bd50ac31c2"
      },
      "source": [
        "#sponsored_ item_condition\n",
        "db_connection = mysql.connector.connect(\n",
        " user='root',password='Swati9000', host='localhost',database=\"eBay\")\n",
        "db_cursor = db_connection.cursor()\n",
        "db_cursor.execute(\"select sponsored,item_condition, count(item_id) from ebay_items group by sponsored, item_condition\")\n",
        "\n",
        "records = db_cursor.fetchall()\n",
        "sponsored_item_condition=pd.DataFrame(records, columns=[\"sponsored\",\"item_condition\",\"No_of_Items\"])\n",
        "print(sponsored_item_condition)"
      ],
      "execution_count": null,
      "outputs": [
        {
          "output_type": "stream",
          "text": [
            "        sponsored            item_condition  No_of_Items\n",
            "0   NON-SPONSORED                       New           22\n",
            "1   NON-SPONSORED        Seller refurbished           99\n",
            "2   NON-SPONSORED                      Used          331\n",
            "3   NON-SPONSORED  Manufacturer refurbished           80\n",
            "4   NON-SPONSORED  For parts or not working           91\n",
            "5   NON-SPONSORED                  Open box           42\n",
            "6       SPONSORED                       New            4\n",
            "7       SPONSORED                      Used            9\n",
            "8       SPONSORED  For parts or not working           12\n",
            "9       SPONSORED  Manufacturer refurbished           27\n",
            "10      SPONSORED                  Open box            5\n",
            "11      SPONSORED        Seller refurbished           26\n"
          ],
          "name": "stdout"
        }
      ]
    },
    {
      "cell_type": "code",
      "metadata": {
        "id": "14dGt7f76-fB",
        "colab_type": "code",
        "colab": {}
      },
      "source": [
        "db_connection.close()"
      ],
      "execution_count": null,
      "outputs": []
    },
    {
      "cell_type": "markdown",
      "metadata": {
        "id": "lVTO0FZO6-fH",
        "colab_type": "text"
      },
      "source": [
        "<h6> Conclusions: Difference between Sponsored & Non-sponsored"
      ]
    },
    {
      "cell_type": "markdown",
      "metadata": {
        "id": "wIvS28_Y6-fI",
        "colab_type": "text"
      },
      "source": [
        "Number of sellers,Number of best offers available, Shipping price, Item price all seems to be higher for Non sponsored as compared to sponsored , but this could be due to the fact there are more number of nonsponsored items as compared to sponsored items.\n",
        "\n",
        "Returns allowed is higher for sponsored as compared to non sponsored (More mean and less deviation)\n",
        "\n",
        "Number of used items seem to be much higher for Non sponsored as compared to Sponsored.\n",
        "\n",
        "Returns allowed and Item conditions are 2 variables which can indicate whether an item is Sponsored or Not Sponsored"
      ]
    }
  ]
}